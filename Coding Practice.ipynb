{
 "cells": [
  {
   "cell_type": "markdown",
   "metadata": {},
   "source": [
    "# INDEX\n",
    "__1. Two Sum__\n",
    "\n",
    "__2. Add Two Numbers : Linked List__\n",
    "\n",
    "__91. Decode Ways__\n",
    "\n",
    "__115. Distinct Subsequences__\n",
    "\n",
    "__128. Longest Consecutive Sequence__\n",
    "\n",
    "__189. Rotate 1D Array __\n",
    "\n",
    "__ 200. Number of Islands __\n",
    "\n",
    "__ 220. Contains Duplicate III__ : Given an array of integers, find out whether there are two distinct indices i and j in the array such that the difference between nums[i] and nums[j] is at most t and the difference between i and j is at most k.\n",
    "\n",
    "__236. Lowest Common Ancestor of a Binary Tree__\n",
    "\n",
    "__258. Add Digits__\n",
    "\n",
    "__274. H-Index : Citations__\n",
    "\n",
    "__278. First Bad Version__\n",
    "\n",
    "__347. Top K Frequent Elements__\n",
    "\n",
    "\n",
    "# Extras : \n",
    "__1. Convert a Binary Search Tree to a Doubly Linked List in-place that has a sorted order__\n",
    "\n",
    "__2. Reverse a 2D Array__\n",
    "\n",
    "__3.Memoized Fibonachi Series__\n",
    "\n",
    "--------------------------------------------------------------------------------\n",
    "# SOLUTIONS\n"
   ]
  },
  {
   "cell_type": "markdown",
   "metadata": {},
   "source": [
    "### 1. Two Sum\n",
    "Given an array of integers, return indices of the two numbers such that they add up to a specific target."
   ]
  },
  {
   "cell_type": "code",
   "execution_count": 133,
   "metadata": {
    "collapsed": true
   },
   "outputs": [],
   "source": [
    "# Given nums = [2, 7, 11, 15], target = 9,\n",
    "\n",
    "# Because nums[0] + nums[1] = 2 + 7 = 9,\n",
    "# return [0, 1].\n",
    "\n",
    "def twoSum(self, nums, target):\n",
    "        \"\"\"\n",
    "        :type nums: List[int]\n",
    "        :type target: int\n",
    "        :rtype: List[int]\n",
    "        \"\"\"\n",
    "        sum = {}\n",
    "        for i in range(len(nums)):\n",
    "            if target - nums[i] in sum:\n",
    "                return [sum[target - nums[i]],i]\n",
    "            else:\n",
    "                if nums[i] not in sum:\n",
    "                    sum[nums[i]] = i\n",
    "                "
   ]
  },
  {
   "cell_type": "markdown",
   "metadata": {},
   "source": [
    "### 2. Add Two Numbers : Linked List"
   ]
  },
  {
   "cell_type": "code",
   "execution_count": 134,
   "metadata": {
    "collapsed": false
   },
   "outputs": [],
   "source": [
    "class ListNode(object):\n",
    "    def __init__(self, x):\n",
    "        self.val = x\n",
    "        self.next = None\n",
    "\n",
    "def addTwoNumbers(l1, l2):\n",
    "        \"\"\"\n",
    "        :type l1: ListNode\n",
    "        :type l2: ListNode\n",
    "        :rtype: ListNode\n",
    "        \"\"\"\n",
    "        head  =  None\n",
    "        current = None\n",
    "        carry = 0\n",
    "        while l1 and l2:\n",
    "            sum = l1.val + l2.val + carry\n",
    "            if not head:\n",
    "                head = ListNode(sum % 10)\n",
    "                current = head\n",
    "            else:\n",
    "                current.next = ListNode(sum % 10)\n",
    "                current = current.next\n",
    "            carry = sum / 10\n",
    "            l1 = l1.next\n",
    "            l2 = l2.next\n",
    "               \n",
    "        remaining = l1 if l1 else l2\n",
    "        while remaining:\n",
    "            sum = remaining.val + carry\n",
    "            current.next = ListNode(sum % 10)\n",
    "            current = current.next\n",
    "            remaining = remaining.next\n",
    "            carry = sum / 10\n",
    "\n",
    "        if carry:\n",
    "            current.next = ListNode(carry)\n",
    "        return head\n",
    "\n",
    "# l2 = ListNode(1)\n",
    "# l2.next =  ListNode(8)\n",
    "# l2.next.next =  ListNode(9)\n",
    "# l2.next.next.next =  ListNode(6)\n",
    "# l1 = ListNode(9)\n",
    "# l1.next =  ListNode(9)\n",
    "# l1.next.next =  ListNode(9) \n",
    "# l3 = addTwoNumbers(l1,l2)\n",
    "# while l3:\n",
    "#     print l3.val\n",
    "#     l3 = l3.next"
   ]
  },
  {
   "cell_type": "markdown",
   "metadata": {},
   "source": [
    "### 91. Decode Ways"
   ]
  },
  {
   "cell_type": "code",
   "execution_count": 2,
   "metadata": {
    "collapsed": false
   },
   "outputs": [
    {
     "data": {
      "text/plain": [
       "8"
      ]
     },
     "execution_count": 2,
     "metadata": {},
     "output_type": "execute_result"
    }
   ],
   "source": [
    "def numDecodings (s):\n",
    "        \"\"\"\n",
    "        :type s: str\n",
    "        :rtype: int\n",
    "        \"\"\"\n",
    "        if not s or len(s) == 0:\n",
    "            return 0\n",
    "        length = len(s)\n",
    "        dp = [0 for i in range(length+1)]\n",
    "        dp[0] = 1\n",
    "        dp[1] = 0 if s[0] == '0' else 1\n",
    "        for idx in range(2,length+1):\n",
    "            if int(s[idx-1]) >= 1 and int(s[idx-1]) <= 9:\n",
    "                dp[idx] += dp[idx-1]\n",
    "            if int(s[idx-2:idx]) >= 10 and int(s[idx-2:idx]) <= 26:\n",
    "                dp[idx] += dp[idx-2]\n",
    "        return dp[length]   \n",
    "# numDecodings('12223')        "
   ]
  },
  {
   "cell_type": "markdown",
   "metadata": {},
   "source": [
    "### 115. Distinct Subsequences"
   ]
  },
  {
   "cell_type": "code",
   "execution_count": 156,
   "metadata": {
    "collapsed": false
   },
   "outputs": [],
   "source": [
    "def numDistinct(s, t):\n",
    "        \"\"\"\n",
    "        :type s: str\n",
    "        :type t: str\n",
    "        :rtype: int\n",
    "        \"\"\"\n",
    "        if not s or not t: return 0\n",
    "        d = {}\n",
    "        d[0] = 0\n",
    "        for outer in range(len(s)-len(t)+1):\n",
    "            for inner in range(len(t)):\n",
    "                if t[inner] == s[inner+outer]:\n",
    "                    if inner == 0:\n",
    "                        d[0] += 1\n",
    "                    elif inner-1 in d:\n",
    "                        if not inner in d:\n",
    "                            d[inner] = d[inner-1] \n",
    "                        else:\n",
    "                            d[inner] += d[inner-1] \n",
    "        return d[len(t)-1] if len(t)-1 in d else 0\n",
    "# numDistinct(\"rabbit\",\"rab\")"
   ]
  },
  {
   "cell_type": "markdown",
   "metadata": {},
   "source": [
    "### 128. Longest Consecutive Sequence"
   ]
  },
  {
   "cell_type": "code",
   "execution_count": 137,
   "metadata": {
    "collapsed": true
   },
   "outputs": [],
   "source": [
    "def longestConsecutive(nums):\n",
    "        \"\"\"\n",
    "        :type nums: List[int]\n",
    "        :rtype: int\n",
    "        \"\"\"\n",
    "        \n",
    "        d = {}\n",
    "        maxLength = 1\n",
    "        for item in nums:\n",
    "            length = 1\n",
    "            if item in d:\n",
    "                continue\n",
    "            if item-1 in d and item+1 in d:\n",
    "                length =  d[item - d[item - 1]] + d[item + d[item + 1]] + 1\n",
    "                d[item - d[item - 1]] , d[item + d[item + 1]] = length, length\n",
    "            else:\n",
    "                if item-1 in d:\n",
    "                    length = d[item - 1] + 1\n",
    "                    d[item - d[item - 1]] = length\n",
    "                if item+1 in d:\n",
    "                    length = d[item + 1] + 1\n",
    "                    d[item + d[item + 1]] = length\n",
    "            d[item] = length\n",
    "            if maxLength < length:\n",
    "                maxLength = length\n",
    "        return maxLength"
   ]
  },
  {
   "cell_type": "markdown",
   "metadata": {},
   "source": [
    "### 189. Rotate 1D Array"
   ]
  },
  {
   "cell_type": "code",
   "execution_count": 138,
   "metadata": {
    "collapsed": true
   },
   "outputs": [],
   "source": [
    "def rotate1DArray(self, nums, k):\n",
    "        \"\"\"\n",
    "        :type nums: List[int]\n",
    "        :type k: int\n",
    "        :rtype: void Do not return anything, modify nums in-place instead.\n",
    "        \"\"\"\n",
    "        k = k % len(nums)\n",
    "        if len(nums) < 2 or k == 0 : return\n",
    "        nums[:k],nums[k:]=nums[-k:],nums[:-k]"
   ]
  },
  {
   "cell_type": "markdown",
   "metadata": {},
   "source": [
    "### 200. Number of Islands"
   ]
  },
  {
   "cell_type": "code",
   "execution_count": 139,
   "metadata": {
    "collapsed": false
   },
   "outputs": [],
   "source": [
    "# WITH EXTRA SPACE\n",
    "# maxr = 0\n",
    "# maxc = 0\n",
    "# def valid(positionx,positiony):\n",
    "#     global maxr\n",
    "#     global maxc\n",
    "#     return True if positionx < maxr and positionx >= 0 and positiony < maxc and positiony >= 0 else False\n",
    "\n",
    "# def mark_visited_neighbours(grid, visited, positionx, positiony):\n",
    "#         positions = [[-1,0],[0,-1],[1,0],[0,1]]\n",
    "#         for item in positions:\n",
    "#                     newx = positionx + item[0]\n",
    "#                     newy = positiony + item[1]\n",
    "#                     if valid(newx,newy) and not visited[newx][newy]:\n",
    "#                             visited[newx][newy] = True\n",
    "#                             if grid[newx][newy] == '1':\n",
    "#                                 mark_visited_neighbours(grid,visited, newx, newy)\n",
    "                                \n",
    "# def numIslands(grid): \n",
    "#         \"\"\"\n",
    "#         :type grid: List[List[str]]\n",
    "#         :rtype: int\n",
    "#         \"\"\"\n",
    "#         if not grid: return 0\n",
    "#         if len(grid) == 1: return 1 if grid[0] == \"1\" else 0  \n",
    "#         maxr = len(grid)\n",
    "#         maxc = len(grid[0])\n",
    "#         visited = [[False for x in xrange(maxc)] for y in xrange(maxc)]\n",
    "#         no_of_islands = 0\n",
    "#         for outer in range(len(grid)):\n",
    "#             for inner in range(len(grid[0])):\n",
    "#                 if grid[outer][inner] == '1' and not visited[outer][inner]:\n",
    "#                     no_of_islands +=1\n",
    "#                     mark_visited_neighbours(grid, visited, outer, inner)\n",
    "#         return no_of_islands\n",
    "# numIslands([[\"1\",\"1\",\"0\"],[\"0\",\"1\",\"0\"],[\"0\",\"0\",\"1\"]])\n",
    "\n",
    "\n",
    "# WITHOUT EXTRA SPACE\n",
    "def mark_visited_neighbours(self,grid, positionx, positiony):\n",
    "        if  positiony >= 0 and positionx >= 0 and positionx < len(grid) and positiony < len(grid[0]):\n",
    "                if grid[positionx][positiony] == \"1\":\n",
    "                    grid[positionx][positiony] = \"#\"\n",
    "                    self.mark_visited_neighbours(grid, positionx-1, positiony)\n",
    "                    self.mark_visited_neighbours(grid, positionx+1, positiony)\n",
    "                    self.mark_visited_neighbours(grid, positionx, positiony-1)\n",
    "                    self.mark_visited_neighbours(grid, positionx, positiony+1)        \n",
    "\n",
    "\n",
    "# MODIFYING GRID\n",
    "def numIslands(self,grid): \n",
    "        if not grid: return 0\n",
    "        no_of_islands = 0\n",
    "        for outer in range(len(grid)):\n",
    "            for inner in range(len(grid[0])):\n",
    "                if grid[outer][inner] == '1':\n",
    "                    no_of_islands +=1\n",
    "                    self.mark_visited_neighbours(grid, outer, inner)\n",
    "        return no_of_islands"
   ]
  },
  {
   "cell_type": "markdown",
   "metadata": {},
   "source": [
    "### 220. Contains Duplicate III\n",
    "Given an array of integers, find out whether there are two distinct indices i and j in the array such that the difference between nums[i] and nums[j] is at most t and the difference between i and j is at most k.\n",
    "\n",
    "The idea is like the bucket sort algorithm. Suppose we have consecutive buckets covering the range of nums with each bucket a width of (t+1). If there are two item with difference <= t, one of the two will happen:\n",
    "\n",
    "(1) the two in the same bucket\n",
    "(2) the two in neighbor buckets"
   ]
  },
  {
   "cell_type": "code",
   "execution_count": 140,
   "metadata": {
    "collapsed": true
   },
   "outputs": [],
   "source": [
    "def containsNearbyAlmostDuplicate(nums, k, t):\n",
    "        \"\"\"\n",
    "        :type nums: List[int]\n",
    "        :type k: int\n",
    "        :type t: int\n",
    "        :rtype: bool\n",
    "        \"\"\"\n",
    "        # length = len(nums)\n",
    "        # for i in range(length-k):\n",
    "        #     for j in range(k):\n",
    "        #         if abs(nums[i] - nums[j]) < t:\n",
    "        #             return True\n",
    "        # return False\n",
    "        if t < 0 :\n",
    "            return False\n",
    "        length = len(nums)\n",
    "        d = {}\n",
    "        t += 1\n",
    "        for i in xrange(length):\n",
    "            if i > k :\n",
    "                del d[nums[i-k-1]/t]\n",
    "            current = nums[i] / t\n",
    "            if current in d:\n",
    "                return True\n",
    "            if current - 1 in d and abs(d[current - 1] - nums[i]) < t :\n",
    "                return True\n",
    "            if current + 1 in d and abs(d[current + 1] - nums[i]) < t :\n",
    "                return True\n",
    "            d[current] = nums[i]\n",
    "        return False"
   ]
  },
  {
   "cell_type": "markdown",
   "metadata": {},
   "source": [
    "### 236. Lowest Common Ancestor of a Binary Tree"
   ]
  },
  {
   "cell_type": "code",
   "execution_count": 141,
   "metadata": {
    "collapsed": true
   },
   "outputs": [],
   "source": [
    "# class TreeNode(object):\n",
    "#     def __init__(self, x):\n",
    "#         self.val = x\n",
    "#         self.left = None\n",
    "#         self.right = None\n",
    "    \n",
    "def lowestCommonAncestor(root, p, q):\n",
    "        \"\"\"\n",
    "        :type root: TreeNode\n",
    "        :type p: TreeNode\n",
    "        :type q: TreeNode\n",
    "        :rtype: TreeNode\n",
    "        \"\"\"\n",
    "        if not root: \n",
    "            return None\n",
    "        if root == p or root == q: \n",
    "            return root\n",
    "        left , right = None, None\n",
    "        if root.left:\n",
    "            left = self.lowestCommonAncestor(root.left, p, q)\n",
    "        if root.right:\n",
    "            right = self.lowestCommonAncestor(root.right, p, q)\n",
    "        if left and right:\n",
    "                if (left == p and right == q) or (left == q and right == p):\n",
    "                    return root\n",
    "        return left if left else right   "
   ]
  },
  {
   "cell_type": "markdown",
   "metadata": {},
   "source": [
    "### 258. Add Digits"
   ]
  },
  {
   "cell_type": "code",
   "execution_count": 142,
   "metadata": {
    "collapsed": true
   },
   "outputs": [],
   "source": [
    "def addDigits(num):\n",
    "        \"\"\"\n",
    "        :type num: int\n",
    "        :rtype: int\n",
    "        \"\"\"\n",
    "        count = num\n",
    "        while count > 9:\n",
    "            num = count\n",
    "            count = 0\n",
    "            while num > 0:\n",
    "                count += num % 10\n",
    "                num /= 10\n",
    "        return count     "
   ]
  },
  {
   "cell_type": "markdown",
   "metadata": {},
   "source": [
    "### 274. H-Index : Citations"
   ]
  },
  {
   "cell_type": "code",
   "execution_count": 1,
   "metadata": {
    "collapsed": true
   },
   "outputs": [],
   "source": [
    "def hIndex(citations):\n",
    "        \"\"\"\n",
    "        :type citations: List[int]\n",
    "        :rtype: int\n",
    "        \"\"\"  \n",
    "        if not citations :  return 0\n",
    "        change = 0\n",
    "        citations.sort(reverse=True)\n",
    "        for index, value in enumerate(citations):\n",
    "            if value == index + 1:\n",
    "                return value\n",
    "            elif value > index + 1:\n",
    "                change = index + 1\n",
    "            else:\n",
    "                return change\n",
    "        return change"
   ]
  },
  {
   "cell_type": "markdown",
   "metadata": {},
   "source": [
    "### 278. First Bad Version"
   ]
  },
  {
   "cell_type": "code",
   "execution_count": 143,
   "metadata": {
    "collapsed": true
   },
   "outputs": [],
   "source": [
    "def firstBadVersion(n):\n",
    "        \"\"\"\n",
    "        :type n: int\n",
    "        :rtype: int\n",
    "        \"\"\"\n",
    "        begin = 1\n",
    "        end = n\n",
    "        while begin <= end:\n",
    "            mid = (begin+end)/2\n",
    "            if isBadVersion(mid):\n",
    "                end = mid-1\n",
    "            else:\n",
    "                begin = mid+1\n",
    "        return begin"
   ]
  },
  {
   "cell_type": "markdown",
   "metadata": {},
   "source": [
    "### 347. Top K Frequent Elements"
   ]
  },
  {
   "cell_type": "code",
   "execution_count": null,
   "metadata": {
    "collapsed": true
   },
   "outputs": [],
   "source": [
    "def topKFrequent(nums, k):\n",
    "    \n",
    "    # Dictionary to hold all number of o\n",
    "    dict_count = {}\n",
    "    for item in nums:\n",
    "        if item in dict_count:\n",
    "            dict_count[item] +=1\n",
    "        else:\n",
    "            dict_count[item] = 1\n",
    "    h = []\n",
    "    for key, value in dict_count.iteritems():\n",
    "        heappush(h, (value,key))\n",
    "    \n",
    "    topk = []\n",
    "    for item in range(k):\n",
    "        topk.push(heappop(h)[1])\n",
    "    \n",
    "    return topk     "
   ]
  },
  {
   "cell_type": "markdown",
   "metadata": {},
   "source": [
    "___\n",
    "## Extras :\n",
    "### 1. Convert a Binary Search Tree to a Doubly Linked List in-place that has a sorted order."
   ]
  },
  {
   "cell_type": "code",
   "execution_count": 144,
   "metadata": {
    "collapsed": false
   },
   "outputs": [],
   "source": [
    "class Node:\n",
    "    def __init__(self,data):\n",
    "        self.right = None\n",
    "        self.left = None\n",
    "        self.data = data\n",
    "            \n",
    "class DLL:\n",
    "    def __init__(self, head = None):\n",
    "        self.head = head\n",
    "        \n",
    "    def insert_left(self, node, data):\n",
    "        new_node = Node(data)\n",
    "        if node.left:\n",
    "            node.left.right = new_node\n",
    "            new_node.left = node.left\n",
    "        new_node.right = node\n",
    "        node.left = new_node\n",
    "        \n",
    "    def insert_right(self, node, data):\n",
    "        new_node = Node(data)\n",
    "        if node.right:\n",
    "            node.right.left = new_node\n",
    "            new_node.right = node.right\n",
    "        new_node.left = node\n",
    "        node.right = new_node\n",
    "       \n",
    "    def bst_to_dll(self, root, current = None):\n",
    "        if current == None:\n",
    "            current = self.head = Node(root.data)\n",
    "        if root.left:\n",
    "                self.insert_left(current, root.left.data)\n",
    "                self.bst_to_dll(root.left,current.left)\n",
    "        if root.right:\n",
    "                self.insert_right(current,root.right.data)\n",
    "                self.bst_to_dll(root.right,current.right)\n",
    "                \n",
    "        new_head = self.head\n",
    "        while new_head.left:\n",
    "            new_head = new_head.left\n",
    "        self.head = new_head\n",
    "       \n",
    "            \n",
    "    def print_dll(self):\n",
    "        current = self.head\n",
    "        while current!= None:\n",
    "            print current.data\n",
    "            current = current.right\n",
    "                  \n",
    "class BST:\n",
    "    def __init__(self, root = None):\n",
    "        self.root = root\n",
    "        \n",
    "    def insert(self, data, root = None):\n",
    "        if root == None:\n",
    "            root = self.root\n",
    "        if data < root.data :\n",
    "            if root.left == None :\n",
    "                root.left = Node(data)\n",
    "            else:\n",
    "                self.insert(data, root.left)\n",
    "        else:\n",
    "            if root.right == None :\n",
    "                root.right = Node(data)\n",
    "            else:\n",
    "                self.insert(data, root.right)\n",
    "                       \n",
    "    def bst_print(self, root):\n",
    "        if root == None:\n",
    "            return\n",
    "        else:\n",
    "            self.bst_print(root.left)\n",
    "            print root.data\n",
    "            self.bst_print(root.right)\n",
    "           \n",
    "bst = BST(Node(8))\n",
    "bst.insert(5)\n",
    "bst.insert(10)\n",
    "bst.insert(2)\n",
    "bst.insert(6)\n",
    "dll = DLL()\n",
    "dll.bst_to_dll(bst.root)\n",
    "# dll.print_dll()"
   ]
  },
  {
   "cell_type": "markdown",
   "metadata": {
    "collapsed": true
   },
   "source": [
    "### 2. Reverse a 2D Array"
   ]
  },
  {
   "cell_type": "code",
   "execution_count": 1,
   "metadata": {
    "collapsed": false
   },
   "outputs": [
    {
     "name": "stdout",
     "output_type": "stream",
     "text": [
      "[(13, 9, 5, 1), (14, 10, 6, 2), (15, 11, 7, 3), (16, 12, 8, 4)]\n"
     ]
    }
   ],
   "source": [
    "a = [[1,2,3,4],[5,6,7,8],[9,10,11,12],[13,14,15,16]]\n",
    "\n",
    "# ROTATE CLOCK WISE\n",
    "a = [x for x in zip(*a[::-1])]\n",
    "\n",
    "# ROTATE COUNTER CLOCK WISE\n",
    "# a = [list(x) for x in zip(*a)]\n",
    "# a = [list(x) for x in zip(*a[::-1])]\n",
    "# a = [list(x) for x in zip(*a)]\n",
    "\n",
    "# OR FOR TRANSPOSE INSTEAD OF ZIP\n",
    "# for i in range(len(alist)):\n",
    "#     for j in range(i,len(alist[0])):\n",
    "#         a[i][j], a[j][i]  = a[j][i], a[i][j]\n",
    "\n",
    "\n",
    "# a = [[1,2,3,4],[5,6,7,8],[9,10,11,12],[13,14,15,16]]\n",
    "# n = len(a)\n",
    "# for item in a: print item\n",
    "# print \n",
    "# for i in range(n/2):\n",
    "#     last = n-i-1 \n",
    "#     for j in range(i,last):\n",
    "#         tmp=a[i][j]\n",
    "#         a[i][j]=a[j][last]\n",
    "#         a[j][last]=a[last][n-j-1]\n",
    "#         a[last][n-j-1]=a[n-j-1][i]\n",
    "#         a[n-1-j][i]=tmp\n",
    "# for item in a: print item  "
   ]
  },
  {
   "cell_type": "markdown",
   "metadata": {},
   "source": [
    "### 3. Say What You See"
   ]
  },
  {
   "cell_type": "code",
   "execution_count": 88,
   "metadata": {
    "collapsed": false
   },
   "outputs": [
    {
     "name": "stdout",
     "output_type": "stream",
     "text": [
      "112213\n"
     ]
    }
   ],
   "source": [
    "def saywhatyousee(item):\n",
    "        output = ''\n",
    "        count = 1\n",
    "        idx = 1\n",
    "        while idx!=len(item):\n",
    "            if item[idx-1] == item[idx]:\n",
    "                count +=1\n",
    "            else:\n",
    "                output += str(count) + item[idx-1]\n",
    "                count = 1\n",
    "            idx +=1\n",
    "        output += str(count) + item[idx-1] \n",
    "        print output\n",
    "saywhatyousee('1223')"
   ]
  },
  {
   "cell_type": "markdown",
   "metadata": {},
   "source": [
    "### 4. Frenemy"
   ]
  },
  {
   "cell_type": "code",
   "execution_count": 209,
   "metadata": {
    "collapsed": false
   },
   "outputs": [],
   "source": [
    "# n = 5\n",
    "# frenemy = [['-','E','F','E','F'],\n",
    "#            ['E','-','F','F','-'],\n",
    "#            ['F','F','-','E','F'],\n",
    "#            ['E','F','E','-','F'],\n",
    "#            ['F','-','F','F','-']]\n",
    "# x = 0\n",
    "# y = 4\n",
    "# relation = 'FFEEF'\n",
    "import itertools\n",
    "def isFrenemy(n, frenemy, x, y, relation):\n",
    "    length = len(relation)\n",
    "    if length == 1:\n",
    "        if frenemy[x][y] == relation:\n",
    "            return 1\n",
    "        else:\n",
    "            return 0\n",
    "    other_members = ''.join(str(x) for x in range(0,n))\n",
    "    perm = [''.join(m) for m in itertools.product(other_members,repeat=length-1)]\n",
    "    for item in perm:\n",
    "        result = ''\n",
    "        item = str(x)+item+str(y)\n",
    "        for idx in range(len(item)-1):\n",
    "            result += frenemy[int(item[idx])][int(item[idx+1])]\n",
    "        if relation == result:\n",
    "            print item\n",
    "            return 1\n",
    "    return 0\n",
    "# print isFrenemy(n, frenemy, x, y, relation)"
   ]
  },
  {
   "cell_type": "markdown",
   "metadata": {},
   "source": [
    "### 5. Fibonacci"
   ]
  },
  {
   "cell_type": "code",
   "execution_count": 90,
   "metadata": {
    "collapsed": false
   },
   "outputs": [],
   "source": [
    "# Memoized fibonacci\n",
    "def FastFib(n,table):\n",
    "    if n<=1:\n",
    "        return n\n",
    "    else:\n",
    "        if(table[n-1]==0):\n",
    "            table[n-1] = FastFib(n-1,table)\n",
    "        if(table[n-2]==0):\n",
    "            table[n-2] = FastFib(n-2,table)\n",
    "        table[n] = table[n-1] + table[n-2]\n",
    "        return table[n]\n",
    "# print(\"Enter the fibonacci number you wish to see: \")\n",
    "# n=input()\n",
    "# for i in range(1,11):\n",
    "#     print FastFib(i-1,[0]*i)\n",
    "\n",
    "\n",
    "# Iterative Fibinacci\n",
    "def fibonacci_loop(n):\n",
    "    if n < 0:\n",
    "        print \"Invalid input\"\n",
    "    a, b = 0, 1\n",
    "    for _ in range(n-1):\n",
    "        a, b = b, a+b\n",
    "    return a\n",
    "# fibonacci_loop(5)"
   ]
  },
  {
   "cell_type": "markdown",
   "metadata": {},
   "source": [
    "### 6.Given an array of integers, write an algorithm that brings all the 0 elements to the end of the array and returns the # of non-zero elements."
   ]
  },
  {
   "cell_type": "code",
   "execution_count": 91,
   "metadata": {
    "collapsed": false
   },
   "outputs": [
    {
     "name": "stdout",
     "output_type": "stream",
     "text": [
      "4\n",
      "[5, 6, 3, 2, 1, 6, 2, 0, 0, 0, 0]\n"
     ]
    }
   ],
   "source": [
    "alist = [5,6,3,2,0,6,0,2,1,0,0]\n",
    "def zeroes_at_end(alist):\n",
    "    count = 0\n",
    "    start_ptr = 0\n",
    "    end_ptr = len(alist)-1\n",
    "    while start_ptr <= end_ptr: \n",
    "        while alist[start_ptr] and start_ptr <= end_ptr: start_ptr+=1\n",
    "        while not alist[end_ptr] and start_ptr <= end_ptr: count+=1;end_ptr-=1\n",
    "        if start_ptr > end_ptr: break\n",
    "        alist[start_ptr] , alist[end_ptr] =  alist[end_ptr], alist[start_ptr]\n",
    "        start_ptr+=1\n",
    "        end_ptr-=1\n",
    "        count+=1\n",
    "    return count   \n",
    "print zeroes_at_end(alist)\n",
    "print alist"
   ]
  },
  {
   "cell_type": "code",
   "execution_count": null,
   "metadata": {
    "collapsed": true
   },
   "outputs": [],
   "source": [
    "# Given a sentence, reverse the order of words in the sentence (e.g. NVIDIA 3D GRAPHICS --&gt; GRAPHICS 3D NVIDIA) \n"
   ]
  },
  {
   "cell_type": "code",
   "execution_count": 97,
   "metadata": {
    "collapsed": false
   },
   "outputs": [
    {
     "name": "stdout",
     "output_type": "stream",
     "text": [
      "[8, 1, 6]\n",
      "[3, 5, 7]\n",
      "[4, 9, 2]\n"
     ]
    }
   ],
   "source": [
    "def printsquare(m):\n",
    "    if m%2!=0:\n",
    "        k =[[0 for i in range(m)] for j in range(m)]\n",
    "        r=0;\n",
    "        c=m/2;\n",
    "    for i in range(1,m*m+1):\n",
    "        k[r][c]= i;\n",
    "        br = r+1;\n",
    "        bc = c+1;\n",
    "        r=(r+m-1)%m;\n",
    "        c=(c+1)%m;\n",
    "        if k[r][c]!=0:\n",
    "            r=br;\n",
    "            c=bc-1;\n",
    "    for row in k:\n",
    "        print row\n",
    "printsquare(3)"
   ]
  },
  {
   "cell_type": "code",
   "execution_count": 105,
   "metadata": {
    "collapsed": true
   },
   "outputs": [],
   "source": [
    "def reverse_list(letters, first=0, last=None):\n",
    "    \"reverses the elements of a list in-place\"\n",
    "    if last is None:\n",
    "        last = len(letters)\n",
    "    last -= 1\n",
    "    while first < last:\n",
    "        letters[first], letters[last] = letters[last], letters[first]\n",
    "        first += 1\n",
    "        last -= 1\n",
    "\n",
    "def reverse_words(string):\n",
    "    \"\"\"reverses the words in a string using a list, with each character\n",
    "    as a list element\"\"\"\n",
    "    characters = list(string)\n",
    "    reverse_list(characters)\n",
    "    first = last = 0\n",
    "    while first < len(characters) and last < len(characters):\n",
    "        if characters[last] != ' ':\n",
    "            last += 1\n",
    "            continue\n",
    "        reverse_list(characters, first, last)\n",
    "        last += 1\n",
    "        first = last\n",
    "    if first < last:\n",
    "        reverse_list(characters, first, last=len(characters))\n",
    "    return ''.join(characters)"
   ]
  },
  {
   "cell_type": "code",
   "execution_count": 106,
   "metadata": {
    "collapsed": false
   },
   "outputs": [
    {
     "name": "stdout",
     "output_type": "stream",
     "text": [
      "['h', 'e', 'l', 'l', 'i', ' ', 'p', 'p', 'l', ' ', 'o', 'f', ' ', 't', 'h', 'e', ' ', 'w', 'o', 'r', 'l', 'd']\n",
      "['d', 'l', 'r', 'o', 'w', ' ', 'e', 'h', 't', ' ', 'f', 'o', ' ', 'l', 'p', 'p', ' ', 'i', 'l', 'l', 'e', 'h']\n"
     ]
    },
    {
     "data": {
      "text/plain": [
       "'world the of ppl helli'"
      ]
     },
     "execution_count": 106,
     "metadata": {},
     "output_type": "execute_result"
    }
   ],
   "source": [
    "reverse_words('helli ppl of the world')"
   ]
  },
  {
   "cell_type": "code",
   "execution_count": null,
   "metadata": {
    "collapsed": true
   },
   "outputs": [],
   "source": []
  }
 ],
 "metadata": {
  "kernelspec": {
   "display_name": "Python 2",
   "language": "python",
   "name": "python2"
  },
  "language_info": {
   "codemirror_mode": {
    "name": "ipython",
    "version": 2
   },
   "file_extension": ".py",
   "mimetype": "text/x-python",
   "name": "python",
   "nbconvert_exporter": "python",
   "pygments_lexer": "ipython2",
   "version": "2.7.11"
  }
 },
 "nbformat": 4,
 "nbformat_minor": 0
}
