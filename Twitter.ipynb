{
 "cells": [
  {
   "cell_type": "code",
   "execution_count": null,
   "metadata": {
    "collapsed": true
   },
   "outputs": [],
   "source": [
    "fname = \"feed.txt\"\n",
    "\n",
    "num_lines = 0\n",
    "num_words = 0\n",
    "num_chars = 0\n",
    "\n",
    "with open(fname, 'r') as f:\n",
    "    for line in f:\n",
    "        words = line.split()\n",
    "\n",
    "        num_lines += 1\n",
    "        num_words += len(words)\n",
    "        num_chars += len(line)"
   ]
  },
  {
   "cell_type": "code",
   "execution_count": null,
   "metadata": {
    "collapsed": true
   },
   "outputs": [],
   "source": [
    "with open('words.txt', 'r') as file:\n",
    "    file_contents = file.read()\n",
    "\n",
    "    print('Total words:   ', len(file_contents.split()))\n",
    "    print('total stops:    ', file_contents.count('.'))"
   ]
  },
  {
   "cell_type": "code",
   "execution_count": null,
   "metadata": {
    "collapsed": true
   },
   "outputs": [],
   "source": [
    "sorted_x = sorted(x.items(), key=operator.itemgetter(0))"
   ]
  }
 ],
 "metadata": {
  "kernelspec": {
   "display_name": "Python 2",
   "language": "python",
   "name": "python2"
  },
  "language_info": {
   "codemirror_mode": {
    "name": "ipython",
    "version": 2
   },
   "file_extension": ".py",
   "mimetype": "text/x-python",
   "name": "python",
   "nbconvert_exporter": "python",
   "pygments_lexer": "ipython2",
   "version": "2.7.11"
  }
 },
 "nbformat": 4,
 "nbformat_minor": 0
}
