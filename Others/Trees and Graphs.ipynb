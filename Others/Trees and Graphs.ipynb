{
 "cells": [
  {
   "cell_type": "code",
   "execution_count": 1,
   "metadata": {},
   "outputs": [],
   "source": [
    "class Node():\n",
    "    \n",
    "    def __init__(self,value=None, adjacent=[]):\n",
    "        self.value=value\n",
    "        self.adjacent=adjacent # list of Node() if there is path to adjacent.\n",
    "        self.visited = False\n",
    "    \n",
    "    def visit(self):\n",
    "        self.visited = True"
   ]
  },
  {
   "cell_type": "code",
   "execution_count": 2,
   "metadata": {},
   "outputs": [
    {
     "name": "stdout",
     "output_type": "stream",
     "text": [
      "1\n",
      "2\n",
      "3\n",
      "4\n",
      "5\n",
      "6\n"
     ]
    }
   ],
   "source": [
    "def DFS(root):\n",
    "    if not root:\n",
    "        return \n",
    "    \n",
    "    root.visit()\n",
    "    print(root.value)\n",
    "    \n",
    "    for adj in root.adjacent:\n",
    "        if not adj.visited:\n",
    "            DFS(adj)\n",
    "            \n",
    "n6 = Node(value=6)\n",
    "n5 = Node(value=5)\n",
    "n4 = Node(value=4, adjacent=[n5,n6])\n",
    "n3 = Node(value=3)\n",
    "n2 = Node(value=2, adjacent=[n3])\n",
    "root = Node(value=1, adjacent=[n2,n4])\n",
    "\n",
    "DFS(root)"
   ]
  },
  {
   "cell_type": "code",
   "execution_count": 4,
   "metadata": {},
   "outputs": [
    {
     "name": "stdout",
     "output_type": "stream",
     "text": [
      "1\n",
      "2\n",
      "4\n",
      "3\n",
      "5\n",
      "6\n"
     ]
    }
   ],
   "source": [
    "class Node():\n",
    "    \n",
    "    def __init__(self,value=None, adjacent=[]):\n",
    "        self.value=value\n",
    "        self.adjacent=adjacent # list of Node() if there is path to adjacent.\n",
    "        self.visited = False\n",
    "    \n",
    "    def visit(self):\n",
    "        self.visited = True\n",
    "\n",
    "import queue\n",
    "\n",
    "def BFS(root):\n",
    "    q = queue.Queue()\n",
    "    q.put(root)\n",
    "    \n",
    "    while not q.empty():\n",
    "        current = q.get()\n",
    "        current.visit()\n",
    "        print(current.value)\n",
    "    \n",
    "        for adj in current.adjacent:\n",
    "            q.put(adj)\n",
    "\n",
    "n6 = Node(value=6)\n",
    "n5 = Node(value=5)\n",
    "n4 = Node(value=4, adjacent=[n5,n6])\n",
    "n3 = Node(value=3)\n",
    "n2 = Node(value=2, adjacent=[n3])\n",
    "root = Node(value=1, adjacent=[n2,n4])\n",
    "\n",
    "BFS(root)"
   ]
  },
  {
   "cell_type": "markdown",
   "metadata": {},
   "source": [
    "### Problem 4.1 Route Between 2 Nodes\n",
    "\n",
    "Assumptions:\n",
    "-- You have a source and destination defined (source is the ancestor of destination)\n",
    "-- You cannot find the ancestors but you can find the children.\n",
    "\n",
    "Solution: BFS (slightly modifed)"
   ]
  },
  {
   "cell_type": "code",
   "execution_count": 23,
   "metadata": {},
   "outputs": [
    {
     "name": "stdout",
     "output_type": "stream",
     "text": [
      "\n",
      "Finding route from 1 to 6\n",
      "Found :)\n",
      "\n",
      "Finding route from 6 to 1\n",
      "Not Found :(\n"
     ]
    }
   ],
   "source": [
    "class Node():\n",
    "    \n",
    "    def __init__(self,value=None, adjacent=[]):\n",
    "        self.value = value\n",
    "        self.adjacent = adjacent # list of Node() if there is path to adjacent.\n",
    "        self.visited = False\n",
    "    \n",
    "    def visit(self):\n",
    "        self.visited = True\n",
    "        \n",
    "    def isDest(self, maybe_dest):\n",
    "        if self.value==maybe_dest.value:\n",
    "            return True\n",
    "        else:\n",
    "            return False\n",
    "        \n",
    "import queue\n",
    "def Route(src, dest):\n",
    "    print('\\nFinding route from {0} to {1}'.format(src.value, dest.value))\n",
    "    q = queue.Queue()\n",
    "    q.put(src)\n",
    "    \n",
    "    while not q.empty():\n",
    "        current = q.get()\n",
    "        if(current.isDest(dest)):\n",
    "            return 'Found :)'\n",
    "        #print(current.value)\n",
    "    \n",
    "        for adj in current.adjacent:\n",
    "            q.put(adj)\n",
    "            \n",
    "    return 'Not Found :('\n",
    "\n",
    "n6 = Node(value=6)\n",
    "n5 = Node(value=5)\n",
    "n4 = Node(value=4, adjacent=[n5,n6])\n",
    "n3 = Node(value=3)\n",
    "n2 = Node(value=2, adjacent=[n3])\n",
    "root = Node(value=1, adjacent=[n2,n4])\n",
    "\n",
    "print(Route(root, n6))\n",
    "print(Route(n6, root))"
   ]
  },
  {
   "cell_type": "markdown",
   "metadata": {},
   "source": [
    "### Problem 4.2 Minimal Tree"
   ]
  },
  {
   "cell_type": "code",
   "execution_count": 95,
   "metadata": {},
   "outputs": [],
   "source": [
    "import math\n",
    "\n",
    "def expectedHeight(sorted_list):\n",
    "    size = len(sorted_list)\n",
    "    for i in range(size):\n",
    "        approx_height = math.log(size-i, 2)\n",
    "        if(approx_height==int(approx_height)):\n",
    "            return int(approx_height) + 1\n",
    "    return 0\n",
    "            \n",
    "class Node():\n",
    "    \n",
    "    def __init__(self,value=None, left=None, right=None):\n",
    "        self.value = value\n",
    "        self.left = left\n",
    "        self.right = right\n",
    "        \n",
    "def minHeightBST(sorted_list, left_position, right_position):\n",
    "    if left_position>right_position:\n",
    "        return None\n",
    "    \n",
    "    center_position = int((left_position+right_position)/2)\n",
    "    if center_position >=0 or center_position <=len(sorted_list):\n",
    "        root = Node(sorted_list[center_position])\n",
    "        root.left = minHeightBST(sorted_list, left_position, center_position-1)\n",
    "        root.right = minHeightBST(sorted_list, center_position+1, right_position)\n",
    "        return root\n",
    "    \n",
    "def actualHeight(root):\n",
    "    if not root:\n",
    "        return 0\n",
    "    else:\n",
    "        return max(actualHeight(root.left), actualHeight(root.right)) + 1\n",
    "\n",
    "def compare(sorted_list=[]):\n",
    "    exp_height = expectedHeight(sorted_list)\n",
    "    act_height = actualHeight(minHeightBST(sorted_list, 0, len(sorted_list)-1))\n",
    "    print('Expected Height: {0}; Actual Height: {1}'.format(exp_height, act_height))\n",
    "    if exp_height == act_height:\n",
    "        print('Correct Height :)')\n",
    "    else: \n",
    "        print('Wrong Height :(')\n",
    "        \n",
    "compare()\n",
    "compare([])\n",
    "compare([1])\n",
    "compare([1,2,3,4,5,6,7])\n",
    "compare([1,2,3,4,5,6,7,8])"
   ]
  },
  {
   "cell_type": "code",
   "execution_count": 96,
   "metadata": {},
   "outputs": [
    {
     "name": "stdout",
     "output_type": "stream",
     "text": [
      "Expected Height: 0; Actual Height: 0\n",
      "Correct Height :)\n",
      "Expected Height: 0; Actual Height: 0\n",
      "Correct Height :)\n",
      "Expected Height: 1; Actual Height: 1\n",
      "Correct Height :)\n",
      "Expected Height: 3; Actual Height: 3\n",
      "Correct Height :)\n",
      "Expected Height: 4; Actual Height: 4\n",
      "Correct Height :)\n"
     ]
    }
   ],
   "source": []
  }
 ],
 "metadata": {
  "kernelspec": {
   "display_name": "Python 2",
   "language": "python",
   "name": "python2"
  },
  "language_info": {
   "codemirror_mode": {
    "name": "ipython",
    "version": 2
   },
   "file_extension": ".py",
   "mimetype": "text/x-python",
   "name": "python",
   "nbconvert_exporter": "python",
   "pygments_lexer": "ipython2",
   "version": "2.7.14"
  }
 },
 "nbformat": 4,
 "nbformat_minor": 2
}
