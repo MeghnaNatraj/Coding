{
 "cells": [
  {
   "cell_type": "code",
   "execution_count": 15,
   "metadata": {
    "collapsed": true
   },
   "outputs": [],
   "source": [
    "# All permutations of a palindrome"
   ]
  },
  {
   "cell_type": "code",
   "execution_count": 16,
   "metadata": {
    "collapsed": false
   },
   "outputs": [
    {
     "data": {
      "text/plain": [
       "0"
      ]
     },
     "execution_count": 16,
     "metadata": {},
     "output_type": "execute_result"
    }
   ],
   "source": [
    "def factorial (n):\n",
    "    if n==1:\n",
    "        return n\n",
    "    else:\n",
    "        return n * factorial(n-1)\n",
    "\n",
    "def numOfPalindrones(string):\n",
    "    d = {}\n",
    "    numerator = 0\n",
    "    denominator = 1\n",
    "    odd = 0\n",
    "    even = 0\n",
    "    for i in range(len(string)):\n",
    "        if string[i] not in d:\n",
    "            d[string[i]] = 1\n",
    "        else:\n",
    "            d[string[i]] += 1\n",
    "    for key, value in d.iteritems():\n",
    "        if value % 2 == 1 :\n",
    "            if odd: return 0\n",
    "            odd += 1\n",
    "        else:\n",
    "            denominator *= factorial(value/2)\n",
    "            numerator += factorial(value/2)\n",
    "    print numerator,denominator\n",
    "    numerator = factorial(numerator) / denominator\n",
    "    return numerator\n",
    "                \n",
    "numOfPalindrones(\"done\")"
   ]
  },
  {
   "cell_type": "code",
   "execution_count": null,
   "metadata": {
    "collapsed": true
   },
   "outputs": [],
   "source": []
  }
 ],
 "metadata": {
  "kernelspec": {
   "display_name": "Python 2",
   "language": "python",
   "name": "python2"
  },
  "language_info": {
   "codemirror_mode": {
    "name": "ipython",
    "version": 2
   },
   "file_extension": ".py",
   "mimetype": "text/x-python",
   "name": "python",
   "nbconvert_exporter": "python",
   "pygments_lexer": "ipython2",
   "version": "2.7.11"
  }
 },
 "nbformat": 4,
 "nbformat_minor": 0
}
